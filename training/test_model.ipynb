{
 "cells": [
  {
   "cell_type": "code",
   "execution_count": 15,
   "metadata": {
    "pycharm": {
     "is_executing": false
    }
   },
   "outputs": [
    {
     "name": "stdout",
     "text": [
      "loaded weights  pspnet_checkpoints_best/pspnet_50.0\n",
      "Sorting 25663\n",
      "Done sorting 25663\n",
      "Segmenting: ./images/0.jpg ./images_segm/0.png\n",
      "Segmenting: ./images/1.jpg ./images_segm/1.png\n",
      "Segmenting: ./images/2.jpg ./images_segm/2.png\n",
      "Segmenting: ./images/3.jpg ./images_segm/3.png\n",
      "Segmenting: ./images/4.jpg ./images_segm/4.png\n",
      "Segmenting: ./images/5.jpg ./images_segm/5.png\n",
      "Segmenting: ./images/6.jpg ./images_segm/6.png\n",
      "Segmenting: ./images/7.jpg ./images_segm/7.png\n",
      "Segmenting: ./images/8.jpg ./images_segm/8.png\n",
      "Segmenting: ./images/9.jpg ./images_segm/9.png\n",
      "Segmenting: ./images/10.jpg ./images_segm/10.png\n",
      "Segmenting: ./images/11.jpg ./images_segm/11.png\n",
      "Segmenting: ./images/12.jpg ./images_segm/12.png\n",
      "Segmenting: ./images/13.jpg ./images_segm/13.png\n",
      "Segmenting: ./images/14.jpg ./images_segm/14.png\n",
      "Segmenting: ./images/15.jpg ./images_segm/15.png\n",
      "Segmenting: ./images/16.jpg ./images_segm/16.png\n",
      "Segmenting: ./images/17.jpg ./images_segm/17.png\n",
      "Segmenting: ./images/18.jpg ./images_segm/18.png\n",
      "Segmenting: ./images/19.jpg ./images_segm/19.png\n",
      "Segmenting: ./images/20.jpg ./images_segm/20.png\n",
      "Segmenting: ./images/21.jpg ./images_segm/21.png\n",
      "Segmenting: ./images/22.jpg ./images_segm/22.png\n",
      "Segmenting: ./images/23.jpg ./images_segm/23.png\n",
      "Segmenting: ./images/24.jpg ./images_segm/24.png\n",
      "Segmenting: ./images/25.jpg ./images_segm/25.png\n",
      "Segmenting: ./images/26.jpg ./images_segm/26.png\n",
      "Segmenting: ./images/27.jpg ./images_segm/27.png\n",
      "Segmenting: ./images/28.jpg ./images_segm/28.png\n",
      "Segmenting: ./images/29.jpg ./images_segm/29.png\n",
      "Segmenting: ./images/30.jpg ./images_segm/30.png\n",
      "Segmenting: ./images/31.jpg ./images_segm/31.png\n",
      "Segmenting: ./images/32.jpg ./images_segm/32.png\n",
      "Segmenting: ./images/33.jpg ./images_segm/33.png\n",
      "Segmenting: ./images/34.jpg ./images_segm/34.png\n",
      "Segmenting: ./images/35.jpg ./images_segm/35.png\n",
      "Segmenting: ./images/36.jpg ./images_segm/36.png\n",
      "Segmenting: ./images/37.jpg ./images_segm/37.png\n",
      "Segmenting: ./images/38.jpg ./images_segm/38.png\n",
      "Segmenting: ./images/39.jpg ./images_segm/39.png\n",
      "Segmenting: ./images/40.jpg ./images_segm/40.png\n",
      "Segmenting: ./images/41.jpg ./images_segm/41.png\n",
      "Segmenting: ./images/42.jpg ./images_segm/42.png\n",
      "Segmenting: ./images/43.jpg ./images_segm/43.png\n",
      "Segmenting: ./images/44.jpg ./images_segm/44.png\n",
      "Segmenting: ./images/45.jpg ./images_segm/45.png\n",
      "Segmenting: ./images/46.jpg ./images_segm/46.png\n",
      "Segmenting: ./images/47.jpg ./images_segm/47.png\n",
      "Segmenting: ./images/48.jpg ./images_segm/48.png\n",
      "Segmenting: ./images/49.jpg ./images_segm/49.png\n",
      "Segmenting: ./images/50.jpg ./images_segm/50.png\n",
      "Segmenting: ./images/51.jpg ./images_segm/51.png\n",
      "Segmenting: ./images/52.jpg ./images_segm/52.png\n",
      "Segmenting: ./images/53.jpg ./images_segm/53.png\n",
      "Segmenting: ./images/54.jpg ./images_segm/54.png\n",
      "Segmenting: ./images/55.jpg ./images_segm/55.png\n",
      "Segmenting: ./images/56.jpg ./images_segm/56.png\n",
      "Segmenting: ./images/57.jpg ./images_segm/57.png\n",
      "Segmenting: ./images/58.jpg ./images_segm/58.png\n",
      "Segmenting: ./images/59.jpg ./images_segm/59.png\n",
      "Segmenting: ./images/60.jpg ./images_segm/60.png\n",
      "Segmenting: ./images/61.jpg ./images_segm/61.png\n",
      "Segmenting: ./images/62.jpg ./images_segm/62.png\n",
      "Segmenting: ./images/63.jpg ./images_segm/63.png\n",
      "Segmenting: ./images/64.jpg ./images_segm/64.png\n",
      "Segmenting: ./images/65.jpg ./images_segm/65.png\n",
      "Segmenting: ./images/66.jpg ./images_segm/66.png\n",
      "Segmenting: ./images/67.jpg ./images_segm/67.png\n",
      "Segmenting: ./images/68.jpg ./images_segm/68.png\n",
      "Segmenting: ./images/69.jpg ./images_segm/69.png\n",
      "Segmenting: ./images/70.jpg ./images_segm/70.png\n",
      "Segmenting: ./images/71.jpg ./images_segm/71.png\n",
      "Segmenting: ./images/72.jpg ./images_segm/72.png\n",
      "Segmenting: ./images/73.jpg ./images_segm/73.png\n",
      "Segmenting: ./images/74.jpg ./images_segm/74.png\n",
      "Segmenting: ./images/75.jpg ./images_segm/75.png\n",
      "Segmenting: ./images/76.jpg ./images_segm/76.png\n",
      "Segmenting: ./images/77.jpg ./images_segm/77.png\n",
      "Segmenting: ./images/78.jpg ./images_segm/78.png\n",
      "Segmenting: ./images/79.jpg ./images_segm/79.png\n",
      "Segmenting: ./images/80.jpg ./images_segm/80.png\n",
      "Segmenting: ./images/81.jpg ./images_segm/81.png\n",
      "Segmenting: ./images/82.jpg ./images_segm/82.png\n",
      "Segmenting: ./images/83.jpg ./images_segm/83.png\n",
      "Segmenting: ./images/84.jpg ./images_segm/84.png\n",
      "Segmenting: ./images/85.jpg ./images_segm/85.png\n",
      "Segmenting: ./images/86.jpg ./images_segm/86.png\n",
      "Segmenting: ./images/87.jpg ./images_segm/87.png\n",
      "Segmenting: ./images/88.jpg ./images_segm/88.png\n",
      "Segmenting: ./images/89.jpg ./images_segm/89.png\n",
      "Segmenting: ./images/90.jpg ./images_segm/90.png\n",
      "Segmenting: ./images/91.jpg ./images_segm/91.png\n",
      "Segmenting: ./images/92.jpg ./images_segm/92.png\n",
      "Segmenting: ./images/93.jpg ./images_segm/93.png\n",
      "Segmenting: ./images/94.jpg ./images_segm/94.png\n",
      "Segmenting: ./images/95.jpg ./images_segm/95.png\n",
      "Segmenting: ./images/96.jpg ./images_segm/96.png\n",
      "Segmenting: ./images/97.jpg ./images_segm/97.png\n",
      "Segmenting: ./images/98.jpg ./images_segm/98.png\n",
      "Segmenting: ./images/99.jpg ./images_segm/99.png\n",
      "Segmenting: ./images/100.jpg ./images_segm/100.png\n",
      "Segmenting: ./images/101.jpg ./images_segm/101.png\n",
      "Segmenting: ./images/102.jpg ./images_segm/102.png\n",
      "Segmenting: ./images/103.jpg ./images_segm/103.png\n",
      "Segmenting: ./images/104.jpg ./images_segm/104.png\n",
      "Segmenting: ./images/105.jpg ./images_segm/105.png\n",
      "Segmenting: ./images/106.jpg ./images_segm/106.png\n",
      "Segmenting: ./images/107.jpg ./images_segm/107.png\n",
      "Segmenting: ./images/108.jpg ./images_segm/108.png\n",
      "Segmenting: ./images/109.jpg ./images_segm/109.png\n",
      "Segmenting: ./images/110.jpg ./images_segm/110.png\n",
      "Segmenting: ./images/111.jpg ./images_segm/111.png\n",
      "Segmenting: ./images/112.jpg ./images_segm/112.png\n",
      "Segmenting: ./images/113.jpg ./images_segm/113.png\n",
      "Segmenting: ./images/114.jpg ./images_segm/114.png\n",
      "Segmenting: ./images/115.jpg ./images_segm/115.png\n",
      "Segmenting: ./images/116.jpg ./images_segm/116.png\n",
      "Segmenting: ./images/117.jpg ./images_segm/117.png\n",
      "Segmenting: ./images/118.jpg ./images_segm/118.png\n",
      "Segmenting: ./images/119.jpg ./images_segm/119.png\n",
      "Segmenting: ./images/120.jpg ./images_segm/120.png\n",
      "Segmenting: ./images/121.jpg ./images_segm/121.png\n",
      "Segmenting: ./images/122.jpg ./images_segm/122.png\n",
      "Segmenting: ./images/123.jpg ./images_segm/123.png\n",
      "Segmenting: ./images/124.jpg ./images_segm/124.png\n",
      "Segmenting: ./images/125.jpg ./images_segm/125.png\n",
      "Segmenting: ./images/126.jpg ./images_segm/126.png\n",
      "Segmenting: ./images/127.jpg ./images_segm/127.png\n",
      "Segmenting: ./images/128.jpg ./images_segm/128.png\n",
      "Segmenting: ./images/129.jpg ./images_segm/129.png\n",
      "Segmenting: ./images/130.jpg ./images_segm/130.png\n",
      "Segmenting: ./images/131.jpg ./images_segm/131.png\n",
      "Segmenting: ./images/132.jpg ./images_segm/132.png\n",
      "Segmenting: ./images/133.jpg ./images_segm/133.png\n",
      "Segmenting: ./images/134.jpg ./images_segm/134.png\n",
      "Segmenting: ./images/135.jpg ./images_segm/135.png\n",
      "Segmenting: ./images/136.jpg ./images_segm/136.png\n",
      "Segmenting: ./images/137.jpg ./images_segm/137.png\n",
      "Segmenting: ./images/138.jpg ./images_segm/138.png\n",
      "Segmenting: ./images/139.jpg ./images_segm/139.png\n",
      "Segmenting: ./images/140.jpg ./images_segm/140.png\n",
      "Segmenting: ./images/141.jpg ./images_segm/141.png\n",
      "Segmenting: ./images/142.jpg ./images_segm/142.png\n",
      "Segmenting: ./images/143.jpg ./images_segm/143.png\n",
      "Segmenting: ./images/144.jpg ./images_segm/144.png\n",
      "Segmenting: ./images/145.jpg ./images_segm/145.png\n",
      "Segmenting: ./images/146.jpg ./images_segm/146.png\n",
      "Segmenting: ./images/147.jpg ./images_segm/147.png\n",
      "Segmenting: ./images/148.jpg ./images_segm/148.png\n"
     ],
     "output_type": "stream"
    },
    {
     "traceback": [
      "\u001b[0;31m---------------------------------------------------------------------------\u001b[0m",
      "\u001b[0;31mKeyboardInterrupt\u001b[0m                         Traceback (most recent call last)",
      "\u001b[0;32m<ipython-input-15-974df924aefa>\u001b[0m in \u001b[0;36m<module>\u001b[0;34m\u001b[0m\n\u001b[1;32m     20\u001b[0m     out = checkpoint.predict_segmentation(\n\u001b[1;32m     21\u001b[0m         \u001b[0minp\u001b[0m\u001b[0;34m=\u001b[0m\u001b[0min_name\u001b[0m\u001b[0;34m,\u001b[0m\u001b[0;34m\u001b[0m\u001b[0;34m\u001b[0m\u001b[0m\n\u001b[0;32m---> 22\u001b[0;31m         \u001b[0mout_fname\u001b[0m\u001b[0;34m=\u001b[0m\u001b[0mout_name\u001b[0m\u001b[0;34m\u001b[0m\u001b[0;34m\u001b[0m\u001b[0m\n\u001b[0m\u001b[1;32m     23\u001b[0m     )\n\u001b[1;32m     24\u001b[0m     \u001b[0mcv2\u001b[0m\u001b[0;34m.\u001b[0m\u001b[0mimwrite\u001b[0m\u001b[0;34m(\u001b[0m\u001b[0mout_name\u001b[0m\u001b[0;34m,\u001b[0m \u001b[0mout\u001b[0m\u001b[0;34m)\u001b[0m\u001b[0;34m\u001b[0m\u001b[0;34m\u001b[0m\u001b[0m\n",
      "\u001b[0;32m~/anaconda3/envs/segmentation/lib/python3.7/site-packages/keras_segmentation/predict.py\u001b[0m in \u001b[0;36mpredict\u001b[0;34m(model, inp, out_fname, checkpoints_path)\u001b[0m\n",
      "\u001b[0;31mKeyboardInterrupt\u001b[0m: "
     ],
     "ename": "KeyboardInterrupt",
     "evalue": "",
     "output_type": "error"
    }
   ],
   "source": [
    "import os\n",
    "import cv2\n",
    "import random\n",
    "from keras_segmentation.predict import model_from_checkpoint_path\n",
    "\n",
    "\n",
    "random.seed(1)\n",
    "checkpoint = model_from_checkpoint_path(\"pspnet_checkpoints_best/pspnet_50\")\n",
    "\n",
    "filenames = os.listdir(\"images\")\n",
    "print(\"Sorting\", len(filenames))\n",
    "filenames.sort(key=lambda f: int(f.replace(\".jpg\", \"\")))\n",
    "print(\"Done sorting\", len(filenames))\n",
    "\n",
    "for filename in filenames[0:1000]:\n",
    "    in_name = os.path.join(\"./images/\", filename)\n",
    "    out_name = os.path.join(\"./images_segm/\", filename.replace(\"jpg\", \"png\"))\n",
    "                            \n",
    "    print(\"Segmenting:\", in_name, out_name)\n",
    "    out = checkpoint.predict_segmentation(\n",
    "        inp=in_name,\n",
    "        out_fname=out_name\n",
    "    )\n",
    "    cv2.imwrite(out_name, out)\n",
    "\n"
   ]
  },
  {
   "cell_type": "code",
   "execution_count": 16,
   "metadata": {
    "pycharm": {
     "is_executing": false
    }
   },
   "outputs": [
    {
     "name": "stdout",
     "text": [
      "loaded weights  pspnet_checkpoints_best/pspnet_50.0\n"
     ],
     "output_type": "stream"
    }
   ],
   "source": [
    "\n",
    "from keras_segmentation.predict import model_from_checkpoint_path\n",
    "\n",
    "checkpoint = model_from_checkpoint_path(\"pspnet_checkpoints_best/pspnet_50\")\n"
   ]
  },
  {
   "cell_type": "code",
   "execution_count": 0,
   "metadata": {
    "pycharm": {
     "is_executing": false
    }
   },
   "outputs": [],
   "source": []
  }
 ],
 "metadata": {
  "kernelspec": {
   "display_name": "Python 3",
   "language": "python",
   "name": "python3"
  },
  "language_info": {
   "codemirror_mode": {
    "name": "ipython",
    "version": 3
   },
   "file_extension": ".py",
   "mimetype": "text/x-python",
   "name": "python",
   "nbconvert_exporter": "python",
   "pygments_lexer": "ipython3",
   "version": "3.7.6"
  },
  "pycharm": {
   "stem_cell": {
    "cell_type": "raw",
    "source": [],
    "metadata": {
     "collapsed": false
    }
   }
  }
 },
 "nbformat": 4,
 "nbformat_minor": 1
}